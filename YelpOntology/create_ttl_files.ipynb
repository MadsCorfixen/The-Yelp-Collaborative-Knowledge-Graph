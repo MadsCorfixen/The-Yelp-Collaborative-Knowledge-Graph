{
 "cells": [
  {
   "cell_type": "code",
   "execution_count": 2,
   "metadata": {},
   "outputs": [],
   "source": [
    "import pandas as pd\n",
    "from Code.UtilityFunctions.run_query import run_query"
   ]
  },
  {
   "cell_type": "code",
   "execution_count": 3,
   "metadata": {},
   "outputs": [],
   "source": [
    "pd.set_option('display.max_rows', 120)\n",
    "pd.set_option('display.max_colwidth', 500)"
   ]
  },
  {
   "attachments": {},
   "cell_type": "markdown",
   "metadata": {},
   "source": [
    "### Create category file"
   ]
  },
  {
   "cell_type": "code",
   "execution_count": null,
   "metadata": {},
   "outputs": [],
   "source": [
    "query = \"\"\"\n",
    "SELECT DISTINCT ?s\n",
    "WHERE {\n",
    "    ?s rdfs:Class yelpont:YelpCategory .\n",
    "}\n",
    "\"\"\"\n",
    "\n",
    "categories = run_query(query, as_dataframe=True)"
   ]
  },
  {
   "cell_type": "code",
   "execution_count": 14,
   "metadata": {},
   "outputs": [
    {
     "name": "stderr",
     "output_type": "stream",
     "text": [
      "/tmp/ipykernel_2601519/3435908261.py:1: FutureWarning: The default value of regex will change from True to False in a future version.\n",
      "  categories['s.value'] = categories['s.value'].str.replace('https://purl.archive.org/purl/yelp/business_categories#', '')\n"
     ]
    }
   ],
   "source": [
    "categories['s.value'] = categories['s.value'].str.replace('https://purl.archive.org/purl/yelp/business_categories#', '')"
   ]
  },
  {
   "cell_type": "code",
   "execution_count": 16,
   "metadata": {},
   "outputs": [],
   "source": [
    "# APPENDS to the .ttl file\n",
    "with open(file=\"yelp_categories.ttl\", mode=\"a\") as file:\n",
    "    file.write(\"@prefix yelpont: <https://purl.archive.org/purl/yelp/ontology#> \\n@prefix yelpcat: <https://purl.archive.org/purl/yelp/business_categories#> \\n@prefix rdfs: <http://www.w3.org/2000/01/rdf-schema#> \\n\")\n",
    "    for category in categories['s.value']:\n",
    "        file.write(f'\\nyelpcat:{category} a yelpont:YelpCategory ; \\n    rdfs:label \"{category} is a category in Yelp used to describe a business.\" . \\n')"
   ]
  },
  {
   "attachments": {},
   "cell_type": "markdown",
   "metadata": {},
   "source": [
    "### Template for Yelp ontology file"
   ]
  },
  {
   "cell_type": "code",
   "execution_count": 7,
   "metadata": {},
   "outputs": [],
   "source": [
    "query = \"\"\"\n",
    "SELECT DISTINCT ?p\n",
    "WHERE {\n",
    "    ?s ?p ?o .\n",
    "    FILTER regex(?p, \"^https://purl\")\n",
    "}\n",
    "\"\"\"\n",
    "\n",
    "predicates = run_query(query, as_dataframe=True)"
   ]
  },
  {
   "cell_type": "code",
   "execution_count": null,
   "metadata": {},
   "outputs": [],
   "source": [
    "# APPENDS to the .ttl file\n",
    "with open(file=\"yelp_ontology.ttl\", mode=\"a\") as file:\n",
    "    for predicate in predicates['p.value']:\n",
    "        file.write(f'\\n <{predicate}> \\n a owl:ToDO ; \\n rdfs:comment \"Specifies something ...\"@en ; \\n rdfs:domain yelpont:X ; \\n rdfs:label \"{predicate}\"@en ; \\n rdfs:range yelpont:X . \\n')"
   ]
  }
 ],
 "metadata": {
  "kernelspec": {
   "display_name": "Python 3",
   "language": "python",
   "name": "python3"
  },
  "language_info": {
   "codemirror_mode": {
    "name": "ipython",
    "version": 3
   },
   "file_extension": ".py",
   "mimetype": "text/x-python",
   "name": "python",
   "nbconvert_exporter": "python",
   "pygments_lexer": "ipython3",
   "version": "3.10.6"
  },
  "orig_nbformat": 4,
  "vscode": {
   "interpreter": {
    "hash": "7e1998ff7f8aa20ada591c520b972326324e5ea05489af9e422744c7c09f6dad"
   }
  }
 },
 "nbformat": 4,
 "nbformat_minor": 2
}
