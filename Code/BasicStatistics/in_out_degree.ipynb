{
 "cells": [
  {
   "cell_type": "code",
   "execution_count": 1,
   "metadata": {},
   "outputs": [],
   "source": [
    "from Code.UtilityFunctions.run_query import run_query"
   ]
  },
  {
   "attachments": {},
   "cell_type": "markdown",
   "metadata": {},
   "source": [
    "### Average Indegree (overall)"
   ]
  },
  {
   "cell_type": "code",
   "execution_count": 4,
   "metadata": {},
   "outputs": [
    {
     "data": {
      "text/html": [
       "<div>\n",
       "<style scoped>\n",
       "    .dataframe tbody tr th:only-of-type {\n",
       "        vertical-align: middle;\n",
       "    }\n",
       "\n",
       "    .dataframe tbody tr th {\n",
       "        vertical-align: top;\n",
       "    }\n",
       "\n",
       "    .dataframe thead th {\n",
       "        text-align: right;\n",
       "    }\n",
       "</style>\n",
       "<table border=\"1\" class=\"dataframe\">\n",
       "  <thead>\n",
       "    <tr style=\"text-align: right;\">\n",
       "      <th></th>\n",
       "      <th>avgIndegree.value</th>\n",
       "    </tr>\n",
       "  </thead>\n",
       "  <tbody>\n",
       "    <tr>\n",
       "      <th>0</th>\n",
       "      <td>3.353450089746473</td>\n",
       "    </tr>\n",
       "  </tbody>\n",
       "</table>\n",
       "</div>"
      ],
      "text/plain": [
       "   avgIndegree.value\n",
       "0  3.353450089746473"
      ]
     },
     "execution_count": 4,
     "metadata": {},
     "output_type": "execute_result"
    }
   ],
   "source": [
    "sparql_query = \"\"\"\n",
    "SELECT AVG(?indegree) as ?avgIndegree\n",
    "WHERE {\n",
    "    SELECT ?o (COUNT(?p) as ?indegree)\n",
    "    FROM <http://www.yelpkg.com/yelp_kg>\n",
    "    WHERE {\n",
    "        ?s ?p ?o .\n",
    "    }\n",
    "    GROUP BY ?o\n",
    "}\n",
    "\"\"\"\n",
    "\n",
    "run_query(sparql_query, as_dataframe=True)"
   ]
  },
  {
   "attachments": {},
   "cell_type": "markdown",
   "metadata": {},
   "source": [
    "### Average Outdegree (overall)"
   ]
  },
  {
   "cell_type": "code",
   "execution_count": 3,
   "metadata": {},
   "outputs": [
    {
     "data": {
      "text/html": [
       "<div>\n",
       "<style scoped>\n",
       "    .dataframe tbody tr th:only-of-type {\n",
       "        vertical-align: middle;\n",
       "    }\n",
       "\n",
       "    .dataframe tbody tr th {\n",
       "        vertical-align: top;\n",
       "    }\n",
       "\n",
       "    .dataframe thead th {\n",
       "        text-align: right;\n",
       "    }\n",
       "</style>\n",
       "<table border=\"1\" class=\"dataframe\">\n",
       "  <thead>\n",
       "    <tr style=\"text-align: right;\">\n",
       "      <th></th>\n",
       "      <th>avgOutdegree.value</th>\n",
       "    </tr>\n",
       "  </thead>\n",
       "  <tbody>\n",
       "    <tr>\n",
       "      <th>0</th>\n",
       "      <td>12.200774898295313</td>\n",
       "    </tr>\n",
       "  </tbody>\n",
       "</table>\n",
       "</div>"
      ],
      "text/plain": [
       "   avgOutdegree.value\n",
       "0  12.200774898295313"
      ]
     },
     "execution_count": 3,
     "metadata": {},
     "output_type": "execute_result"
    }
   ],
   "source": [
    "sparql_query = \"\"\"\n",
    "SELECT AVG(?outdegree) as ?avgOutdegree\n",
    "WHERE {\n",
    "    SELECT ?s COUNT(?p) as ?outdegree\n",
    "    FROM <http://www.yelpkg.com/yelp_kg>\n",
    "    WHERE {\n",
    "        ?s ?p ?o .\n",
    "    }\n",
    "    GROUP BY ?s\n",
    "}\n",
    "\"\"\"\n",
    "\n",
    "run_query(sparql_query, as_dataframe=True)"
   ]
  },
  {
   "attachments": {},
   "cell_type": "markdown",
   "metadata": {},
   "source": [
    "### Average Indegree (business)"
   ]
  },
  {
   "cell_type": "code",
   "execution_count": 2,
   "metadata": {},
   "outputs": [
    {
     "data": {
      "text/html": [
       "<div>\n",
       "<style scoped>\n",
       "    .dataframe tbody tr th:only-of-type {\n",
       "        vertical-align: middle;\n",
       "    }\n",
       "\n",
       "    .dataframe tbody tr th {\n",
       "        vertical-align: top;\n",
       "    }\n",
       "\n",
       "    .dataframe thead th {\n",
       "        text-align: right;\n",
       "    }\n",
       "</style>\n",
       "<table border=\"1\" class=\"dataframe\">\n",
       "  <thead>\n",
       "    <tr style=\"text-align: right;\">\n",
       "      <th></th>\n",
       "      <th>avgIndegree.value</th>\n",
       "    </tr>\n",
       "  </thead>\n",
       "  <tbody>\n",
       "    <tr>\n",
       "      <th>0</th>\n",
       "      <td>46.494619078658561</td>\n",
       "    </tr>\n",
       "  </tbody>\n",
       "</table>\n",
       "</div>"
      ],
      "text/plain": [
       "    avgIndegree.value\n",
       "0  46.494619078658561"
      ]
     },
     "execution_count": 2,
     "metadata": {},
     "output_type": "execute_result"
    }
   ],
   "source": [
    "sparql_query = \"\"\"\n",
    "SELECT AVG(?indegree) as ?avgIndegree\n",
    "WHERE {\n",
    "    SELECT ?o (COUNT(?p) as ?indegree)\n",
    "    FROM <http://www.yelpkg.com/yelp_kg>\n",
    "    WHERE {\n",
    "        ?o rdfs:Class schema:LocalBusiness .\n",
    "        ?s ?p ?o .\n",
    "    }\n",
    "    GROUP BY ?o\n",
    "}\n",
    "\"\"\"\n",
    "\n",
    "run_query(sparql_query, as_dataframe=True)"
   ]
  },
  {
   "attachments": {},
   "cell_type": "markdown",
   "metadata": {},
   "source": [
    "### Average Outdegree (business)"
   ]
  },
  {
   "cell_type": "code",
   "execution_count": 3,
   "metadata": {},
   "outputs": [
    {
     "data": {
      "text/html": [
       "<div>\n",
       "<style scoped>\n",
       "    .dataframe tbody tr th:only-of-type {\n",
       "        vertical-align: middle;\n",
       "    }\n",
       "\n",
       "    .dataframe tbody tr th {\n",
       "        vertical-align: top;\n",
       "    }\n",
       "\n",
       "    .dataframe thead th {\n",
       "        text-align: right;\n",
       "    }\n",
       "</style>\n",
       "<table border=\"1\" class=\"dataframe\">\n",
       "  <thead>\n",
       "    <tr style=\"text-align: right;\">\n",
       "      <th></th>\n",
       "      <th>avgOutdegree.value</th>\n",
       "    </tr>\n",
       "  </thead>\n",
       "  <tbody>\n",
       "    <tr>\n",
       "      <th>0</th>\n",
       "      <td>114.016661567318053</td>\n",
       "    </tr>\n",
       "  </tbody>\n",
       "</table>\n",
       "</div>"
      ],
      "text/plain": [
       "    avgOutdegree.value\n",
       "0  114.016661567318053"
      ]
     },
     "execution_count": 3,
     "metadata": {},
     "output_type": "execute_result"
    }
   ],
   "source": [
    "sparql_query = \"\"\"\n",
    "SELECT AVG(?outdegree) as ?avgOutdegree\n",
    "WHERE {\n",
    "    SELECT ?s COUNT(?p) as ?outdegree\n",
    "    FROM <http://www.yelpkg.com/yelp_kg>\n",
    "    WHERE {\n",
    "        ?s rdfs:Class schema:LocalBusiness .\n",
    "        ?s ?p ?o .\n",
    "    }\n",
    "    GROUP BY ?s\n",
    "}\n",
    "\"\"\"\n",
    "\n",
    "run_query(sparql_query, as_dataframe=True)"
   ]
  },
  {
   "attachments": {},
   "cell_type": "markdown",
   "metadata": {},
   "source": [
    "### Average Indegree (user)"
   ]
  },
  {
   "cell_type": "code",
   "execution_count": 4,
   "metadata": {},
   "outputs": [
    {
     "data": {
      "text/html": [
       "<div>\n",
       "<style scoped>\n",
       "    .dataframe tbody tr th:only-of-type {\n",
       "        vertical-align: middle;\n",
       "    }\n",
       "\n",
       "    .dataframe tbody tr th {\n",
       "        vertical-align: top;\n",
       "    }\n",
       "\n",
       "    .dataframe thead th {\n",
       "        text-align: right;\n",
       "    }\n",
       "</style>\n",
       "<table border=\"1\" class=\"dataframe\">\n",
       "  <thead>\n",
       "    <tr style=\"text-align: right;\">\n",
       "      <th></th>\n",
       "      <th>avgIndegree.value</th>\n",
       "    </tr>\n",
       "  </thead>\n",
       "  <tbody>\n",
       "    <tr>\n",
       "      <th>0</th>\n",
       "      <td>3.973627406248915</td>\n",
       "    </tr>\n",
       "  </tbody>\n",
       "</table>\n",
       "</div>"
      ],
      "text/plain": [
       "   avgIndegree.value\n",
       "0  3.973627406248915"
      ]
     },
     "execution_count": 4,
     "metadata": {},
     "output_type": "execute_result"
    }
   ],
   "source": [
    "sparql_query = \"\"\"\n",
    "SELECT AVG(?indegree) as ?avgIndegree\n",
    "WHERE {\n",
    "    SELECT ?o (COUNT(?p) as ?indegree)\n",
    "    FROM <http://www.yelpkg.com/yelp_kg>\n",
    "    WHERE {\n",
    "        ?o rdfs:Class schema:Person .\n",
    "        ?s ?p ?o .\n",
    "    }\n",
    "    GROUP BY ?o\n",
    "}\n",
    "\"\"\"\n",
    "\n",
    "run_query(sparql_query, as_dataframe=True)"
   ]
  },
  {
   "attachments": {},
   "cell_type": "markdown",
   "metadata": {},
   "source": [
    "### Average Outdegree (user)"
   ]
  },
  {
   "cell_type": "code",
   "execution_count": 5,
   "metadata": {},
   "outputs": [
    {
     "data": {
      "text/html": [
       "<div>\n",
       "<style scoped>\n",
       "    .dataframe tbody tr th:only-of-type {\n",
       "        vertical-align: middle;\n",
       "    }\n",
       "\n",
       "    .dataframe tbody tr th {\n",
       "        vertical-align: top;\n",
       "    }\n",
       "\n",
       "    .dataframe thead th {\n",
       "        text-align: right;\n",
       "    }\n",
       "</style>\n",
       "<table border=\"1\" class=\"dataframe\">\n",
       "  <thead>\n",
       "    <tr style=\"text-align: right;\">\n",
       "      <th></th>\n",
       "      <th>avgOutdegree.value</th>\n",
       "    </tr>\n",
       "  </thead>\n",
       "  <tbody>\n",
       "    <tr>\n",
       "      <th>0</th>\n",
       "      <td>74.104365065192009</td>\n",
       "    </tr>\n",
       "  </tbody>\n",
       "</table>\n",
       "</div>"
      ],
      "text/plain": [
       "   avgOutdegree.value\n",
       "0  74.104365065192009"
      ]
     },
     "execution_count": 5,
     "metadata": {},
     "output_type": "execute_result"
    }
   ],
   "source": [
    "sparql_query = \"\"\"\n",
    "SELECT AVG(?outdegree) as ?avgOutdegree\n",
    "WHERE {\n",
    "    SELECT ?s COUNT(?p) as ?outdegree\n",
    "    FROM <http://www.yelpkg.com/yelp_kg>\n",
    "    WHERE {\n",
    "        ?s rdfs:Class schema:Person .\n",
    "        ?s ?p ?o .\n",
    "    }\n",
    "    GROUP BY ?s\n",
    "}\n",
    "\"\"\"\n",
    "\n",
    "run_query(sparql_query, as_dataframe=True)"
   ]
  },
  {
   "attachments": {},
   "cell_type": "markdown",
   "metadata": {},
   "source": [
    "### Unique predicates in jsons"
   ]
  },
  {
   "cell_type": "code",
   "execution_count": 33,
   "metadata": {},
   "outputs": [],
   "source": [
    "import sys\n",
    "sys.path.append(sys.path[0][:sys.path[0].find('DVML-P7') + len('DVML-P7')])\n",
    "import json\n",
    "from Code.UtilityFunctions.get_data_path import get_path\n",
    "predicates = set()\n",
    "# Open JSON file for reading\n",
    "files = [\n",
    "        'yelp_academic_dataset_business.json',\n",
    "        'yelp_academic_dataset_user.json',\n",
    "        'yelp_academic_dataset_review.json',\n",
    "        'yelp_academic_dataset_checkin.json',\n",
    "        'yelp_academic_dataset_tip.json'\n",
    "    ]\n",
    "for i in files:\n",
    "    with open(file=get_path(i), mode=\"r\") as file:\n",
    "        # Iterate through each line in the file\n",
    "        for line in file:\n",
    "            # Parse line as a dictionary\n",
    "            data = json.loads(line)\n",
    "            for keys in data.keys():\n",
    "                if keys == 'attributes' and type(data[keys]) != type(None):\n",
    "                    for key in data[keys].keys():\n",
    "                        if key in [\"BusinessParking\", \"GoodForMeal\", \"Ambience\", \"Music\", \"BestNights\", \"HairSpecializesIn\", \"DietaryRestrictions\"]:\n",
    "                            dictionaries = json.loads(data[keys][key].replace(\"'\", '\"').replace(\"None\", \"null\").replace('u\"', '\"').replace(\"True\", \"true\").replace(\"False\", \"false\"))\n",
    "                            if type(dictionaries) != type(None):\n",
    "                                for k in dictionaries.keys():\n",
    "                                    predicates.add(k)\n",
    "                        predicates.add(key)\n",
    "                if keys == 'hours' and type(data[keys]) != type(None):\n",
    "                    for key in data[keys].keys():\n",
    "                        predicates.add(key)\n",
    "                predicates.add(keys)\n",
    "len(predicates)"
   ]
  },
  {
   "cell_type": "code",
   "execution_count": 35,
   "metadata": {},
   "outputs": [
    {
     "data": {
      "text/plain": [
       "{'AcceptsInsurance',\n",
       " 'AgesAllowed',\n",
       " 'Alcohol',\n",
       " 'Ambience',\n",
       " 'BYOB',\n",
       " 'BYOBCorkage',\n",
       " 'BestNights',\n",
       " 'BikeParking',\n",
       " 'BusinessAcceptsBitcoin',\n",
       " 'BusinessAcceptsCreditCards',\n",
       " 'BusinessParking',\n",
       " 'ByAppointmentOnly',\n",
       " 'Caters',\n",
       " 'CoatCheck',\n",
       " 'Corkage',\n",
       " 'DietaryRestrictions',\n",
       " 'DogsAllowed',\n",
       " 'DriveThru',\n",
       " 'Friday',\n",
       " 'GoodForDancing',\n",
       " 'GoodForKids',\n",
       " 'GoodForMeal',\n",
       " 'HairSpecializesIn',\n",
       " 'HappyHour',\n",
       " 'HasTV',\n",
       " 'Monday',\n",
       " 'Music',\n",
       " 'NoiseLevel',\n",
       " 'Open24Hours',\n",
       " 'OutdoorSeating',\n",
       " 'RestaurantsAttire',\n",
       " 'RestaurantsCounterService',\n",
       " 'RestaurantsDelivery',\n",
       " 'RestaurantsGoodForGroups',\n",
       " 'RestaurantsPriceRange2',\n",
       " 'RestaurantsReservations',\n",
       " 'RestaurantsTableService',\n",
       " 'RestaurantsTakeOut',\n",
       " 'Saturday',\n",
       " 'Smoking',\n",
       " 'Sunday',\n",
       " 'Thursday',\n",
       " 'Tuesday',\n",
       " 'Wednesday',\n",
       " 'WheelchairAccessible',\n",
       " 'WiFi',\n",
       " 'address',\n",
       " 'africanamerican',\n",
       " 'asian',\n",
       " 'attributes',\n",
       " 'average_stars',\n",
       " 'background_music',\n",
       " 'breakfast',\n",
       " 'brunch',\n",
       " 'business_id',\n",
       " 'casual',\n",
       " 'categories',\n",
       " 'city',\n",
       " 'classy',\n",
       " 'coloring',\n",
       " 'compliment_cool',\n",
       " 'compliment_count',\n",
       " 'compliment_cute',\n",
       " 'compliment_funny',\n",
       " 'compliment_hot',\n",
       " 'compliment_list',\n",
       " 'compliment_more',\n",
       " 'compliment_note',\n",
       " 'compliment_photos',\n",
       " 'compliment_plain',\n",
       " 'compliment_profile',\n",
       " 'compliment_writer',\n",
       " 'cool',\n",
       " 'curly',\n",
       " 'dairy-free',\n",
       " 'date',\n",
       " 'dessert',\n",
       " 'dinner',\n",
       " 'divey',\n",
       " 'dj',\n",
       " 'elite',\n",
       " 'extensions',\n",
       " 'fans',\n",
       " 'friday',\n",
       " 'friends',\n",
       " 'funny',\n",
       " 'garage',\n",
       " 'gluten-free',\n",
       " 'halal',\n",
       " 'hipster',\n",
       " 'hours',\n",
       " 'intimate',\n",
       " 'is_open',\n",
       " 'jukebox',\n",
       " 'karaoke',\n",
       " 'kids',\n",
       " 'kosher',\n",
       " 'latenight',\n",
       " 'latitude',\n",
       " 'live',\n",
       " 'longitude',\n",
       " 'lot',\n",
       " 'lunch',\n",
       " 'monday',\n",
       " 'name',\n",
       " 'no_music',\n",
       " 'perms',\n",
       " 'postal_code',\n",
       " 'review_count',\n",
       " 'review_id',\n",
       " 'romantic',\n",
       " 'saturday',\n",
       " 'soy-free',\n",
       " 'stars',\n",
       " 'state',\n",
       " 'straightperms',\n",
       " 'street',\n",
       " 'sunday',\n",
       " 'text',\n",
       " 'thursday',\n",
       " 'touristy',\n",
       " 'trendy',\n",
       " 'tuesday',\n",
       " 'upscale',\n",
       " 'useful',\n",
       " 'user_id',\n",
       " 'valet',\n",
       " 'validated',\n",
       " 'vegan',\n",
       " 'vegetarian',\n",
       " 'video',\n",
       " 'wednesday',\n",
       " 'yelping_since'}"
      ]
     },
     "execution_count": 35,
     "metadata": {},
     "output_type": "execute_result"
    }
   ],
   "source": [
    "predicates"
   ]
  },
  {
   "cell_type": "code",
   "execution_count": null,
   "metadata": {},
   "outputs": [],
   "source": []
  }
 ],
 "metadata": {
  "kernelspec": {
   "display_name": "Python 3",
   "language": "python",
   "name": "python3"
  },
  "language_info": {
   "codemirror_mode": {
    "name": "ipython",
    "version": 3
   },
   "file_extension": ".py",
   "mimetype": "text/x-python",
   "name": "python",
   "nbconvert_exporter": "python",
   "pygments_lexer": "ipython3",
   "version": "3.10.6 (main, Sep  5 2022, 08:14:40) [GCC 9.4.0]"
  },
  "orig_nbformat": 4,
  "vscode": {
   "interpreter": {
    "hash": "7e1998ff7f8aa20ada591c520b972326324e5ea05489af9e422744c7c09f6dad"
   }
  }
 },
 "nbformat": 4,
 "nbformat_minor": 2
}
