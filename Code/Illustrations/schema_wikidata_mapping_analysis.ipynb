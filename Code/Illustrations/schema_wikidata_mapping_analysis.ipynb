{
 "cells": [
  {
   "cell_type": "code",
   "execution_count": 1,
   "metadata": {},
   "outputs": [],
   "source": [
    "import sys\n",
    "sys.path.append(sys.path[0][:sys.path[0].find('DVML-P7') + len('DVML-P7')])\n",
    "from Code.UtilityFunctions.get_data_path import get_path\n",
    "import pandas as pd\n",
    "\n",
    "from Code.UtilityFunctions.run_query import run_query"
   ]
  },
  {
   "attachments": {},
   "cell_type": "markdown",
   "metadata": {},
   "source": [
    "## Number of Schema types with a sameAs mapping to Wikidata"
   ]
  },
  {
   "cell_type": "code",
   "execution_count": 2,
   "metadata": {},
   "outputs": [
    {
     "data": {
      "text/html": [
       "<div>\n",
       "<style scoped>\n",
       "    .dataframe tbody tr th:only-of-type {\n",
       "        vertical-align: middle;\n",
       "    }\n",
       "\n",
       "    .dataframe tbody tr th {\n",
       "        vertical-align: top;\n",
       "    }\n",
       "\n",
       "    .dataframe thead th {\n",
       "        text-align: right;\n",
       "    }\n",
       "</style>\n",
       "<table border=\"1\" class=\"dataframe\">\n",
       "  <thead>\n",
       "    <tr style=\"text-align: right;\">\n",
       "      <th></th>\n",
       "      <th>s.value</th>\n",
       "      <th>qid.value</th>\n",
       "    </tr>\n",
       "  </thead>\n",
       "  <tbody>\n",
       "    <tr>\n",
       "      <th>0</th>\n",
       "      <td>https://schema.org/EmploymentAgency</td>\n",
       "      <td>http://www.wikidata.org/entity/Q261362</td>\n",
       "    </tr>\n",
       "    <tr>\n",
       "      <th>1</th>\n",
       "      <td>https://schema.org/ArtGallery</td>\n",
       "      <td>http://www.wikidata.org/entity/Q1007870</td>\n",
       "    </tr>\n",
       "    <tr>\n",
       "      <th>2</th>\n",
       "      <td>https://schema.org/GolfCourse</td>\n",
       "      <td>http://www.wikidata.org/entity/Q1048525</td>\n",
       "    </tr>\n",
       "    <tr>\n",
       "      <th>3</th>\n",
       "      <td>https://schema.org/MusicComposition</td>\n",
       "      <td>http://www.wikidata.org/entity/Q105543609</td>\n",
       "    </tr>\n",
       "    <tr>\n",
       "      <th>4</th>\n",
       "      <td>https://schema.org/HealthClub</td>\n",
       "      <td>http://www.wikidata.org/entity/Q1065656</td>\n",
       "    </tr>\n",
       "    <tr>\n",
       "      <th>...</th>\n",
       "      <td>...</td>\n",
       "      <td>...</td>\n",
       "    </tr>\n",
       "    <tr>\n",
       "      <th>133</th>\n",
       "      <td>https://schema.org/HinduTemple</td>\n",
       "      <td>http://www.wikidata.org/entity/Q842402</td>\n",
       "    </tr>\n",
       "    <tr>\n",
       "      <th>134</th>\n",
       "      <td>https://schema.org/PoliceStation</td>\n",
       "      <td>http://www.wikidata.org/entity/Q861951</td>\n",
       "    </tr>\n",
       "    <tr>\n",
       "      <th>135</th>\n",
       "      <td>https://schema.org/MusicVenue</td>\n",
       "      <td>http://www.wikidata.org/entity/Q8719053</td>\n",
       "    </tr>\n",
       "    <tr>\n",
       "      <th>136</th>\n",
       "      <td>https://schema.org/Resort</td>\n",
       "      <td>http://www.wikidata.org/entity/Q875157</td>\n",
       "    </tr>\n",
       "    <tr>\n",
       "      <th>137</th>\n",
       "      <td>https://schema.org/HighSchool</td>\n",
       "      <td>http://www.wikidata.org/entity/Q97961514</td>\n",
       "    </tr>\n",
       "  </tbody>\n",
       "</table>\n",
       "<p>138 rows × 2 columns</p>\n",
       "</div>"
      ],
      "text/plain": [
       "                                 s.value  \\\n",
       "0    https://schema.org/EmploymentAgency   \n",
       "1          https://schema.org/ArtGallery   \n",
       "2          https://schema.org/GolfCourse   \n",
       "3    https://schema.org/MusicComposition   \n",
       "4          https://schema.org/HealthClub   \n",
       "..                                   ...   \n",
       "133       https://schema.org/HinduTemple   \n",
       "134     https://schema.org/PoliceStation   \n",
       "135        https://schema.org/MusicVenue   \n",
       "136            https://schema.org/Resort   \n",
       "137        https://schema.org/HighSchool   \n",
       "\n",
       "                                     qid.value  \n",
       "0       http://www.wikidata.org/entity/Q261362  \n",
       "1      http://www.wikidata.org/entity/Q1007870  \n",
       "2      http://www.wikidata.org/entity/Q1048525  \n",
       "3    http://www.wikidata.org/entity/Q105543609  \n",
       "4      http://www.wikidata.org/entity/Q1065656  \n",
       "..                                         ...  \n",
       "133     http://www.wikidata.org/entity/Q842402  \n",
       "134     http://www.wikidata.org/entity/Q861951  \n",
       "135    http://www.wikidata.org/entity/Q8719053  \n",
       "136     http://www.wikidata.org/entity/Q875157  \n",
       "137   http://www.wikidata.org/entity/Q97961514  \n",
       "\n",
       "[138 rows x 2 columns]"
      ]
     },
     "execution_count": 2,
     "metadata": {},
     "output_type": "execute_result"
    }
   ],
   "source": [
    "query = \"\"\"\n",
    "SELECT ?s ?qid ?qid_label\n",
    "WHERE {\n",
    "    ?s schema:sameAs ?qid .\n",
    "    FILTER regex(?s, \"^https://schema\")\n",
    "}\n",
    "\"\"\"\n",
    "run_query(query, as_dataframe=True)"
   ]
  },
  {
   "cell_type": "code",
   "execution_count": 4,
   "metadata": {},
   "outputs": [
    {
     "data": {
      "text/plain": [
       "0.4742268041237113"
      ]
     },
     "execution_count": 4,
     "metadata": {},
     "output_type": "execute_result"
    }
   ],
   "source": [
    "# In total we have 291 categories in the Yelp dataset mapped to Schema\n",
    "138 / 291"
   ]
  },
  {
   "cell_type": "code",
   "execution_count": 6,
   "metadata": {},
   "outputs": [
    {
     "data": {
      "text/html": [
       "<div>\n",
       "<style scoped>\n",
       "    .dataframe tbody tr th:only-of-type {\n",
       "        vertical-align: middle;\n",
       "    }\n",
       "\n",
       "    .dataframe tbody tr th {\n",
       "        vertical-align: top;\n",
       "    }\n",
       "\n",
       "    .dataframe thead th {\n",
       "        text-align: right;\n",
       "    }\n",
       "</style>\n",
       "<table border=\"1\" class=\"dataframe\">\n",
       "  <thead>\n",
       "    <tr style=\"text-align: right;\">\n",
       "      <th></th>\n",
       "      <th>biz.value</th>\n",
       "    </tr>\n",
       "  </thead>\n",
       "  <tbody>\n",
       "    <tr>\n",
       "      <th>0</th>\n",
       "      <td>https://purl.archive.org/purl/yelp/yelp_entiti...</td>\n",
       "    </tr>\n",
       "    <tr>\n",
       "      <th>1</th>\n",
       "      <td>https://purl.archive.org/purl/yelp/yelp_entiti...</td>\n",
       "    </tr>\n",
       "    <tr>\n",
       "      <th>2</th>\n",
       "      <td>https://purl.archive.org/purl/yelp/yelp_entiti...</td>\n",
       "    </tr>\n",
       "    <tr>\n",
       "      <th>3</th>\n",
       "      <td>https://purl.archive.org/purl/yelp/yelp_entiti...</td>\n",
       "    </tr>\n",
       "    <tr>\n",
       "      <th>4</th>\n",
       "      <td>https://purl.archive.org/purl/yelp/yelp_entiti...</td>\n",
       "    </tr>\n",
       "    <tr>\n",
       "      <th>...</th>\n",
       "      <td>...</td>\n",
       "    </tr>\n",
       "    <tr>\n",
       "      <th>128864</th>\n",
       "      <td>https://purl.archive.org/purl/yelp/yelp_entiti...</td>\n",
       "    </tr>\n",
       "    <tr>\n",
       "      <th>128865</th>\n",
       "      <td>https://purl.archive.org/purl/yelp/yelp_entiti...</td>\n",
       "    </tr>\n",
       "    <tr>\n",
       "      <th>128866</th>\n",
       "      <td>https://purl.archive.org/purl/yelp/yelp_entiti...</td>\n",
       "    </tr>\n",
       "    <tr>\n",
       "      <th>128867</th>\n",
       "      <td>https://purl.archive.org/purl/yelp/yelp_entiti...</td>\n",
       "    </tr>\n",
       "    <tr>\n",
       "      <th>128868</th>\n",
       "      <td>https://purl.archive.org/purl/yelp/yelp_entiti...</td>\n",
       "    </tr>\n",
       "  </tbody>\n",
       "</table>\n",
       "<p>128869 rows × 1 columns</p>\n",
       "</div>"
      ],
      "text/plain": [
       "                                                biz.value\n",
       "0       https://purl.archive.org/purl/yelp/yelp_entiti...\n",
       "1       https://purl.archive.org/purl/yelp/yelp_entiti...\n",
       "2       https://purl.archive.org/purl/yelp/yelp_entiti...\n",
       "3       https://purl.archive.org/purl/yelp/yelp_entiti...\n",
       "4       https://purl.archive.org/purl/yelp/yelp_entiti...\n",
       "...                                                   ...\n",
       "128864  https://purl.archive.org/purl/yelp/yelp_entiti...\n",
       "128865  https://purl.archive.org/purl/yelp/yelp_entiti...\n",
       "128866  https://purl.archive.org/purl/yelp/yelp_entiti...\n",
       "128867  https://purl.archive.org/purl/yelp/yelp_entiti...\n",
       "128868  https://purl.archive.org/purl/yelp/yelp_entiti...\n",
       "\n",
       "[128869 rows x 1 columns]"
      ]
     },
     "execution_count": 6,
     "metadata": {},
     "output_type": "execute_result"
    }
   ],
   "source": [
    "# And how many businesses have a mapped category to Wikidata?\n",
    "query = \"\"\"\n",
    "SELECT DISTINCT ?biz \n",
    "WHERE {\n",
    "    ?biz ?p ?s .\n",
    "    ?biz rdfs:Class schema:LocalBusiness .\n",
    "    ?biz schema:category ?yelpcat .\n",
    "    ?yelpcat ?relation ?schemacat .\n",
    "    ?schemacat schema:sameAs ?qid .\n",
    "}\n",
    "\"\"\"\n",
    "run_query(query, as_dataframe=True)"
   ]
  },
  {
   "cell_type": "code",
   "execution_count": 7,
   "metadata": {},
   "outputs": [
    {
     "data": {
      "text/plain": [
       "0.8571495084671358"
      ]
     },
     "execution_count": 7,
     "metadata": {},
     "output_type": "execute_result"
    }
   ],
   "source": [
    "# Out of all unique businesses how many have at least one category mapped to Wikidata through schema?\n",
    "128869 / 150346"
   ]
  }
 ],
 "metadata": {
  "kernelspec": {
   "display_name": "Python 3",
   "language": "python",
   "name": "python3"
  },
  "language_info": {
   "codemirror_mode": {
    "name": "ipython",
    "version": 3
   },
   "file_extension": ".py",
   "mimetype": "text/x-python",
   "name": "python",
   "nbconvert_exporter": "python",
   "pygments_lexer": "ipython3",
   "version": "3.10.6"
  },
  "orig_nbformat": 4
 },
 "nbformat": 4,
 "nbformat_minor": 2
}
