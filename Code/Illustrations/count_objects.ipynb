{
 "cells": [
  {
   "cell_type": "code",
   "execution_count": 1,
   "metadata": {
    "collapsed": true
   },
   "outputs": [],
   "source": [
    "import json\n",
    "\n",
    "from UtilityFunctions.get_data_path import get_path"
   ]
  },
  {
   "cell_type": "code",
   "execution_count": 2,
   "metadata": {
    "collapsed": false,
    "pycharm": {
     "name": "#%%\n"
    }
   },
   "outputs": [
    {
     "name": "stdout",
     "output_type": "stream",
     "text": [
      "The number of entities in <_io.TextIOWrapper name='/home/ubuntu/OneDrive/DVML-P7/Data/yelp_academic_dataset_business.json' mode='r' encoding='utf8'> is 150346\n",
      "The number of entities in <_io.TextIOWrapper name='/home/ubuntu/OneDrive/DVML-P7/Data/yelp_academic_dataset_checkin.json' mode='r' encoding='utf8'> is 131930\n",
      "The number of entities in <_io.TextIOWrapper name='/home/ubuntu/OneDrive/DVML-P7/Data/yelp_academic_dataset_review.json' mode='r' encoding='utf8'> is 6990280\n",
      "The number of entities in <_io.TextIOWrapper name='/home/ubuntu/OneDrive/DVML-P7/Data/yelp_academic_dataset_user.json' mode='r' encoding='utf8'> is 1987897\n",
      "The number of entities in <_io.TextIOWrapper name='/home/ubuntu/OneDrive/DVML-P7/Data/yelp_academic_dataset_tip.json' mode='r' encoding='utf8'> is 908915\n"
     ]
    }
   ],
   "source": [
    "for _file in [\"yelp_academic_dataset_business.json\", \"yelp_academic_dataset_checkin.json\",\n",
    "             \"yelp_academic_dataset_review.json\", \"yelp_academic_dataset_user.json\",\n",
    "              \"yelp_academic_dataset_tip.json\"]:\n",
    "    counter = 0\n",
    "    file_path = get_path(_file)\n",
    "    with open(file=file_path, mode=\"r\", encoding = 'utf8') as file:\n",
    "        for line in file:\n",
    "            data = json.loads(line)\n",
    "            counter += 1\n",
    "\n",
    "    print(f\"The number of entities in {file} is {counter}\")"
   ]
  }
 ],
 "metadata": {
  "kernelspec": {
   "display_name": "Python 3.10.7 64-bit",
   "language": "python",
   "name": "python3"
  },
  "language_info": {
   "codemirror_mode": {
    "name": "ipython",
    "version": 3
   },
   "file_extension": ".py",
   "mimetype": "text/x-python",
   "name": "python",
   "nbconvert_exporter": "python",
   "pygments_lexer": "ipython3",
   "version": "3.10.7"
  },
  "vscode": {
   "interpreter": {
    "hash": "97cc609b13305c559618ec78a438abc56230b9381f827f22d070313b9a1f3777"
   }
  }
 },
 "nbformat": 4,
 "nbformat_minor": 0
}
