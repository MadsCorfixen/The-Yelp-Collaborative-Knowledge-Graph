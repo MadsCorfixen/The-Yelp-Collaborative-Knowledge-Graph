{
 "cells": [
  {
   "cell_type": "code",
   "execution_count": 88,
   "metadata": {},
   "outputs": [],
   "source": [
    "import pandas as pd\n",
    "import gzip\n",
    "import json\n",
    "from Code.UtilityFunctions.get_data_path import get_path\n",
    "from Code.UtilityFunctions.get_iri import get_iri\n",
    "from RecommendationSplits.split_yelp_nt_files import get_positive_users, format_values_string, batch_get_reviews, timewise_stratified_split\n",
    "\n",
    "import os\n",
    "import sys\n",
    "sys.path.append(sys.path[0][:sys.path[0].find('DVML-P7') + len('DVML-P7')])\n",
    "\n",
    "from Code.UtilityFunctions.run_query import run_query"
   ]
  },
  {
   "cell_type": "code",
   "execution_count": 80,
   "metadata": {},
   "outputs": [],
   "source": [
    "users_with_pos_reviews = get_positive_users(num_reviews_threshold=10, rating_threshold=3.0)\n",
    "\n",
    "user_batch_cache = set()  # Create an empty set to store the user URIs in batches\n",
    "reviews_list = list()  # Create an empty list to store the resulting dataframes for reviews\n",
    "\n",
    "for row in users_with_pos_reviews.itertuples():\n",
    "    user = row[1]  # Get the user URI from the current row of users_with_pos_reviews dataframe\n",
    "    user_batch_cache.add(user)  # Add the user URI to the user batch cache\n",
    "\n",
    "    if len(user_batch_cache) % 20 == 0:\n",
    "        # If the user batch cache contains 20 user URIs, format them into a string for the VALUES statement in the query\n",
    "        user_batch = format_values_string(_input=user_batch_cache)\n",
    "        user_batch_cache.clear()  # Prepare the user batch cache for the next 20 users\n",
    "\n",
    "        # Query the graph for reviews, businesses, ratings, and timestamps for the current batch of users\n",
    "        review_batch = batch_get_reviews(user_batch=user_batch)\n",
    "        reviews_list.append(review_batch)  # Append the resulting dataframe to the list of reviews\n",
    "\n",
    "if len(user_batch_cache) > 0:\n",
    "    # If the last batch is less than 20, we still need to retrieve reviews, businesses, ratings, and timestamps\n",
    "    user_batch = format_values_string(_input=user_batch_cache)\n",
    "    review_batch = batch_get_reviews(user_batch=user_batch)\n",
    "    reviews_list.append(review_batch)  # Append the resulting dataframe to the list of reviews\n",
    "\n",
    "reviews_df = pd.concat(reviews_list, ignore_index=True)  # Concatenate all the resulting dataframes into a single dataframe"
   ]
  },
  {
   "cell_type": "code",
   "execution_count": 81,
   "metadata": {},
   "outputs": [],
   "source": [
    "t = timewise_stratified_split(data=reviews_df, class_column=\"user.value\", time_column=\"timestamp.value\",\n",
    "                              train_size=0.6, val_size=0.2, test_size=0.2) "
   ]
  },
  {
   "cell_type": "code",
   "execution_count": 82,
   "metadata": {},
   "outputs": [],
   "source": [
    "train, val, test = t[0], t[1], t[2]"
   ]
  },
  {
   "attachments": {},
   "cell_type": "markdown",
   "metadata": {},
   "source": [
    "### Size Check"
   ]
  },
  {
   "cell_type": "code",
   "execution_count": 83,
   "metadata": {},
   "outputs": [
    {
     "name": "stdout",
     "output_type": "stream",
     "text": [
      "1733862 555682 658398 2947942 2947942\n"
     ]
    },
    {
     "data": {
      "text/plain": [
       "(True, 0)"
      ]
     },
     "execution_count": 83,
     "metadata": {},
     "output_type": "execute_result"
    }
   ],
   "source": [
    "# Size check - do the train-validation-test sets use the entirety of the original data?\n",
    "print(len(t[0]), len(t[1]), len(t[2]), len(t[0]) + len(t[1]) + len(t[2]), len(reviews_df))\n",
    "len(t[0]) + len(t[1]) + len(t[2]) == len(reviews_df), len(reviews_df) - (len(t[0]) + len(t[1]) + len(t[2]))"
   ]
  },
  {
   "attachments": {},
   "cell_type": "markdown",
   "metadata": {},
   "source": [
    "### User Check"
   ]
  },
  {
   "cell_type": "code",
   "execution_count": 84,
   "metadata": {},
   "outputs": [
    {
     "name": "stdout",
     "output_type": "stream",
     "text": [
      "88060 88060 88060 88060\n"
     ]
    },
    {
     "data": {
      "text/plain": [
       "True"
      ]
     },
     "execution_count": 84,
     "metadata": {},
     "output_type": "execute_result"
    }
   ],
   "source": [
    "# User check - are all users still present in each of the splits?\n",
    "print(len(set(t[0]['user.value'])), len(set(t[1]['user.value'])), len(set(t[2]['user.value'])), len(set(reviews_df['user.value'])))\n",
    "len(set(t[0]['user.value'])) == len(set(t[1]['user.value'])) == len(set(t[2]['user.value'])) == len(set(reviews_df['user.value']))"
   ]
  },
  {
   "attachments": {},
   "cell_type": "markdown",
   "metadata": {},
   "source": [
    "### Leakage Check"
   ]
  },
  {
   "cell_type": "code",
   "execution_count": 85,
   "metadata": {},
   "outputs": [],
   "source": [
    "def check_duplicate_rows(*dfs):\n",
    "    \"\"\"\n",
    "    Check if two Pandas DataFrames have any rows that are the same using hash values.\n",
    "\n",
    "    Args:\n",
    "        dfs (pd.DataFrame): .\n",
    "\n",
    "    Returns:\n",
    "        bool: True if any rows are the same, False otherwise.\n",
    "    \"\"\"\n",
    "    sets = [set(df.itertuples(index=False, name=None)) for df in dfs]\n",
    "    \n",
    "    # Use set intersection to find the common rows\n",
    "    common_rows = set.intersection(*sets)\n",
    "\n",
    "    if len(common_rows) > 0:\n",
    "        return True\n",
    "    else:\n",
    "        return False"
   ]
  },
  {
   "cell_type": "code",
   "execution_count": 89,
   "metadata": {},
   "outputs": [
    {
     "data": {
      "text/plain": [
       "True"
      ]
     },
     "execution_count": 89,
     "metadata": {},
     "output_type": "execute_result"
    }
   ],
   "source": [
    "# Leakage check - are there any shared rows in the train-val-test partitions?\n",
    "not check_duplicate_rows(t[0], t[1], t[2])"
   ]
  },
  {
   "attachments": {},
   "cell_type": "markdown",
   "metadata": {},
   "source": [
    "### Basic statistic of splits"
   ]
  },
  {
   "cell_type": "code",
   "execution_count": 87,
   "metadata": {},
   "outputs": [
    {
     "name": "stdout",
     "output_type": "stream",
     "text": [
      "Average number of reviews per user in the train set: 19.68955257778787\n",
      "Average number of reviews per user in the val set: 6.310265727912787\n",
      "Average number of reviews per user in the test set: 7.476697706109471\n"
     ]
    }
   ],
   "source": [
    "average_reviews_train = train.groupby('user.value').size().mean()\n",
    "average_reviews_val = val.groupby('user.value').size().mean()\n",
    "average_reviews_test = test.groupby('user.value').size().mean()\n",
    "\n",
    "print(f\"Average number of reviews per user in the train set: {average_reviews_train}\")\n",
    "print(f\"Average number of reviews per user in the val set: {average_reviews_val}\")\n",
    "print(f\"Average number of reviews per user in the test set: {average_reviews_test}\")\n"
   ]
  },
  {
   "attachments": {},
   "cell_type": "markdown",
   "metadata": {},
   "source": [
    "## Tips TODO"
   ]
  },
  {
   "cell_type": "code",
   "execution_count": null,
   "metadata": {},
   "outputs": [],
   "source": [
    "def batch_get_tips(user_batch: str) -> pd.DataFrame:\n",
    "    \"\"\"\n",
    "    Retrieves tips for a batch of users based on a given user batch string.\n",
    "\n",
    "    Args:\n",
    "    user_batch (str): A string containing the batch of user URIs to retrieve tips for.\n",
    "\n",
    "    Returns:\n",
    "    pd.DataFrame: A Pandas DataFrame containing the tips for the users in the batch.\n",
    "    \"\"\"\n",
    "    # Define the SPARQL query to retrieve reviews for the given user batch\n",
    "    get_tips_query = f\"\"\"\n",
    "    SELECT ?user ?tip ?business ?timestamp\n",
    "    WHERE {{\n",
    "        ?tip schema:author ?user .\n",
    "        ?tip rdfs:Class yelpont:Tip .\n",
    "        ?tip schema:about ?business .\n",
    "        ?tip schema:dateCreated ?timestamp .\n",
    "\n",
    "        VALUES ?user {{ {user_batch} }} .\n",
    "    }}\n",
    "    \"\"\"\n",
    "\n",
    "    # Run the SPARQL query and retrieve results as a Pandas DataFrame\n",
    "    tips_df = run_query(query=get_tips_query, as_dataframe=True)\n",
    "\n",
    "    # Return the DataFrame with the reviews for the users in the batch\n",
    "    return tips_df"
   ]
  },
  {
   "cell_type": "code",
   "execution_count": 28,
   "metadata": {},
   "outputs": [
    {
     "data": {
      "text/html": [
       "<div>\n",
       "<style scoped>\n",
       "    .dataframe tbody tr th:only-of-type {\n",
       "        vertical-align: middle;\n",
       "    }\n",
       "\n",
       "    .dataframe tbody tr th {\n",
       "        vertical-align: top;\n",
       "    }\n",
       "\n",
       "    .dataframe thead th {\n",
       "        text-align: right;\n",
       "    }\n",
       "</style>\n",
       "<table border=\"1\" class=\"dataframe\">\n",
       "  <thead>\n",
       "    <tr style=\"text-align: right;\">\n",
       "      <th></th>\n",
       "      <th>user.value</th>\n",
       "      <th>tip.value</th>\n",
       "      <th>business.value</th>\n",
       "      <th>timestamp.value</th>\n",
       "    </tr>\n",
       "  </thead>\n",
       "  <tbody>\n",
       "    <tr>\n",
       "      <th>0</th>\n",
       "      <td>https://purl.archive.org/purl/yelp/yelp_entiti...</td>\n",
       "      <td>N584425f5227f4a5b83bd881a7adfd834</td>\n",
       "      <td>https://purl.archive.org/purl/yelp/yelp_entiti...</td>\n",
       "      <td>2017-07-21T16:34:52</td>\n",
       "    </tr>\n",
       "    <tr>\n",
       "      <th>1</th>\n",
       "      <td>https://purl.archive.org/purl/yelp/yelp_entiti...</td>\n",
       "      <td>N0006fd40c07a405dbaa90e5b3b690fdd</td>\n",
       "      <td>https://purl.archive.org/purl/yelp/yelp_entiti...</td>\n",
       "      <td>2016-10-20T00:29:57</td>\n",
       "    </tr>\n",
       "    <tr>\n",
       "      <th>2</th>\n",
       "      <td>https://purl.archive.org/purl/yelp/yelp_entiti...</td>\n",
       "      <td>N4992fd97b9704ec5ac116944160d4379</td>\n",
       "      <td>https://purl.archive.org/purl/yelp/yelp_entiti...</td>\n",
       "      <td>2013-02-28T14:16:54</td>\n",
       "    </tr>\n",
       "    <tr>\n",
       "      <th>3</th>\n",
       "      <td>https://purl.archive.org/purl/yelp/yelp_entiti...</td>\n",
       "      <td>Nd38b90a18c10453d847cfda996dc2ae5</td>\n",
       "      <td>https://purl.archive.org/purl/yelp/yelp_entiti...</td>\n",
       "      <td>2013-03-09T01:59:44</td>\n",
       "    </tr>\n",
       "    <tr>\n",
       "      <th>4</th>\n",
       "      <td>https://purl.archive.org/purl/yelp/yelp_entiti...</td>\n",
       "      <td>Nf8186b70d5184387ba1cb2857709847c</td>\n",
       "      <td>https://purl.archive.org/purl/yelp/yelp_entiti...</td>\n",
       "      <td>2013-03-09T02:26:41</td>\n",
       "    </tr>\n",
       "    <tr>\n",
       "      <th>...</th>\n",
       "      <td>...</td>\n",
       "      <td>...</td>\n",
       "      <td>...</td>\n",
       "      <td>...</td>\n",
       "    </tr>\n",
       "    <tr>\n",
       "      <th>427805</th>\n",
       "      <td>https://purl.archive.org/purl/yelp/yelp_entiti...</td>\n",
       "      <td>Nb5e9c5697cee4d1a858e282eb1dcea35</td>\n",
       "      <td>https://purl.archive.org/purl/yelp/yelp_entiti...</td>\n",
       "      <td>2013-09-06T19:04:24</td>\n",
       "    </tr>\n",
       "    <tr>\n",
       "      <th>427806</th>\n",
       "      <td>https://purl.archive.org/purl/yelp/yelp_entiti...</td>\n",
       "      <td>N0a1d01329d1b4b7b86f4914ebdaab83a</td>\n",
       "      <td>https://purl.archive.org/purl/yelp/yelp_entiti...</td>\n",
       "      <td>2015-03-22T16:58:39</td>\n",
       "    </tr>\n",
       "    <tr>\n",
       "      <th>427807</th>\n",
       "      <td>https://purl.archive.org/purl/yelp/yelp_entiti...</td>\n",
       "      <td>N25ba95c4f02a42c5860152bc8b41e6ff</td>\n",
       "      <td>https://purl.archive.org/purl/yelp/yelp_entiti...</td>\n",
       "      <td>2015-03-22T16:55:15</td>\n",
       "    </tr>\n",
       "    <tr>\n",
       "      <th>427808</th>\n",
       "      <td>https://purl.archive.org/purl/yelp/yelp_entiti...</td>\n",
       "      <td>N449151ddeb3d4ae885e3642195375b93</td>\n",
       "      <td>https://purl.archive.org/purl/yelp/yelp_entiti...</td>\n",
       "      <td>2015-03-22T23:30:04</td>\n",
       "    </tr>\n",
       "    <tr>\n",
       "      <th>427809</th>\n",
       "      <td>https://purl.archive.org/purl/yelp/yelp_entiti...</td>\n",
       "      <td>N4a19c854f0ac4b56b7227867b394833b</td>\n",
       "      <td>https://purl.archive.org/purl/yelp/yelp_entiti...</td>\n",
       "      <td>2015-06-10T21:18:08</td>\n",
       "    </tr>\n",
       "  </tbody>\n",
       "</table>\n",
       "<p>427810 rows × 4 columns</p>\n",
       "</div>"
      ],
      "text/plain": [
       "                                               user.value  \\\n",
       "0       https://purl.archive.org/purl/yelp/yelp_entiti...   \n",
       "1       https://purl.archive.org/purl/yelp/yelp_entiti...   \n",
       "2       https://purl.archive.org/purl/yelp/yelp_entiti...   \n",
       "3       https://purl.archive.org/purl/yelp/yelp_entiti...   \n",
       "4       https://purl.archive.org/purl/yelp/yelp_entiti...   \n",
       "...                                                   ...   \n",
       "427805  https://purl.archive.org/purl/yelp/yelp_entiti...   \n",
       "427806  https://purl.archive.org/purl/yelp/yelp_entiti...   \n",
       "427807  https://purl.archive.org/purl/yelp/yelp_entiti...   \n",
       "427808  https://purl.archive.org/purl/yelp/yelp_entiti...   \n",
       "427809  https://purl.archive.org/purl/yelp/yelp_entiti...   \n",
       "\n",
       "                                tip.value  \\\n",
       "0       N584425f5227f4a5b83bd881a7adfd834   \n",
       "1       N0006fd40c07a405dbaa90e5b3b690fdd   \n",
       "2       N4992fd97b9704ec5ac116944160d4379   \n",
       "3       Nd38b90a18c10453d847cfda996dc2ae5   \n",
       "4       Nf8186b70d5184387ba1cb2857709847c   \n",
       "...                                   ...   \n",
       "427805  Nb5e9c5697cee4d1a858e282eb1dcea35   \n",
       "427806  N0a1d01329d1b4b7b86f4914ebdaab83a   \n",
       "427807  N25ba95c4f02a42c5860152bc8b41e6ff   \n",
       "427808  N449151ddeb3d4ae885e3642195375b93   \n",
       "427809  N4a19c854f0ac4b56b7227867b394833b   \n",
       "\n",
       "                                           business.value      timestamp.value  \n",
       "0       https://purl.archive.org/purl/yelp/yelp_entiti...  2017-07-21T16:34:52  \n",
       "1       https://purl.archive.org/purl/yelp/yelp_entiti...  2016-10-20T00:29:57  \n",
       "2       https://purl.archive.org/purl/yelp/yelp_entiti...  2013-02-28T14:16:54  \n",
       "3       https://purl.archive.org/purl/yelp/yelp_entiti...  2013-03-09T01:59:44  \n",
       "4       https://purl.archive.org/purl/yelp/yelp_entiti...  2013-03-09T02:26:41  \n",
       "...                                                   ...                  ...  \n",
       "427805  https://purl.archive.org/purl/yelp/yelp_entiti...  2013-09-06T19:04:24  \n",
       "427806  https://purl.archive.org/purl/yelp/yelp_entiti...  2015-03-22T16:58:39  \n",
       "427807  https://purl.archive.org/purl/yelp/yelp_entiti...  2015-03-22T16:55:15  \n",
       "427808  https://purl.archive.org/purl/yelp/yelp_entiti...  2015-03-22T23:30:04  \n",
       "427809  https://purl.archive.org/purl/yelp/yelp_entiti...  2015-06-10T21:18:08  \n",
       "\n",
       "[427810 rows x 4 columns]"
      ]
     },
     "execution_count": 28,
     "metadata": {},
     "output_type": "execute_result"
    }
   ],
   "source": [
    "users_with_pos_reviews = get_positive_users(num_reviews_threshold=10, rating_threshold=3.0)\n",
    "\n",
    "user_batch_cache = set()  # Create an empty set to store the user URIs in batches\n",
    "tips_list = list()  # Create an empty list to store the resulting dataframes for reviews\n",
    "\n",
    "for row in users_with_pos_reviews.itertuples():\n",
    "    user = row[1]  # Get the user URI from the current row of users_with_pos_reviews dataframe\n",
    "    user_batch_cache.add(user)  # Add the user URI to the user batch cache\n",
    "\n",
    "    if len(user_batch_cache) % 20 == 0:\n",
    "        # If the user batch cache contains 20 user URIs, format them into a string for the VALUES statement in the query\n",
    "        user_batch = format_values_string(_input=user_batch_cache)\n",
    "        user_batch_cache.clear()  # Prepare the user batch cache for the next 20 users\n",
    "\n",
    "        # Query the graph for reviews, businesses, ratings, and timestamps for the current batch of users\n",
    "        tip_batch = batch_get_tips(user_batch=user_batch)\n",
    "        tips_list.append(tip_batch)  # Append the resulting dataframe to the list of reviews\n",
    "\n",
    "if len(user_batch_cache) > 0:\n",
    "    # If the last batch is less than 20, we still need to retrieve reviews, businesses, ratings, and timestamps\n",
    "    user_batch = format_values_string(_input=user_batch_cache)\n",
    "    tip_batch = batch_get_tips(user_batch=user_batch)\n",
    "    tips_list.append(tip_batch)  # Append the resulting dataframe to the list of reviews\n",
    "\n",
    "tips_df = pd.concat(tips_list, ignore_index=True)  # Concatenate all the resulting dataframes into a single dataframe\n",
    "tips_df"
   ]
  },
  {
   "cell_type": "code",
   "execution_count": 29,
   "metadata": {},
   "outputs": [],
   "source": [
    "tips_split = timewise_stratified_split(data=tips_df, class_column=\"user.value\", time_column=\"timestamp.value\",\n",
    "                              train_size=0.6, val_size=0.2, test_size=0.2)\n",
    "\n",
    "tip_train, tip_val, tip_test = tips_split[0], tips_split[1], tips_split[2]"
   ]
  },
  {
   "cell_type": "code",
   "execution_count": 30,
   "metadata": {},
   "outputs": [
    {
     "data": {
      "text/html": [
       "<div>\n",
       "<style scoped>\n",
       "    .dataframe tbody tr th:only-of-type {\n",
       "        vertical-align: middle;\n",
       "    }\n",
       "\n",
       "    .dataframe tbody tr th {\n",
       "        vertical-align: top;\n",
       "    }\n",
       "\n",
       "    .dataframe thead th {\n",
       "        text-align: right;\n",
       "    }\n",
       "</style>\n",
       "<table border=\"1\" class=\"dataframe\">\n",
       "  <thead>\n",
       "    <tr style=\"text-align: right;\">\n",
       "      <th></th>\n",
       "      <th>user.value</th>\n",
       "      <th>tip.value</th>\n",
       "      <th>business.value</th>\n",
       "      <th>timestamp.value</th>\n",
       "    </tr>\n",
       "  </thead>\n",
       "  <tbody>\n",
       "    <tr>\n",
       "      <th>23182</th>\n",
       "      <td>https://purl.archive.org/purl/yelp/yelp_entiti...</td>\n",
       "      <td>N5d3087c739714f8b8c126113447e63bb</td>\n",
       "      <td>https://purl.archive.org/purl/yelp/yelp_entiti...</td>\n",
       "      <td>2011-04-04 23:23:35</td>\n",
       "    </tr>\n",
       "    <tr>\n",
       "      <th>15305</th>\n",
       "      <td>https://purl.archive.org/purl/yelp/yelp_entiti...</td>\n",
       "      <td>Na67dba1a01e3497f9d0778211011aa63</td>\n",
       "      <td>https://purl.archive.org/purl/yelp/yelp_entiti...</td>\n",
       "      <td>2011-01-13 23:06:48</td>\n",
       "    </tr>\n",
       "    <tr>\n",
       "      <th>15439</th>\n",
       "      <td>https://purl.archive.org/purl/yelp/yelp_entiti...</td>\n",
       "      <td>N6cc919545fac4ae8af37567e7a8c954e</td>\n",
       "      <td>https://purl.archive.org/purl/yelp/yelp_entiti...</td>\n",
       "      <td>2011-01-15 13:21:43</td>\n",
       "    </tr>\n",
       "    <tr>\n",
       "      <th>16816</th>\n",
       "      <td>https://purl.archive.org/purl/yelp/yelp_entiti...</td>\n",
       "      <td>Nc0510e6ae68e4ac19c8c26e673a748c9</td>\n",
       "      <td>https://purl.archive.org/purl/yelp/yelp_entiti...</td>\n",
       "      <td>2011-01-30 22:57:50</td>\n",
       "    </tr>\n",
       "    <tr>\n",
       "      <th>16817</th>\n",
       "      <td>https://purl.archive.org/purl/yelp/yelp_entiti...</td>\n",
       "      <td>N3e1a67290ab8441e888f3189493d1628</td>\n",
       "      <td>https://purl.archive.org/purl/yelp/yelp_entiti...</td>\n",
       "      <td>2011-01-30 23:00:05</td>\n",
       "    </tr>\n",
       "    <tr>\n",
       "      <th>...</th>\n",
       "      <td>...</td>\n",
       "      <td>...</td>\n",
       "      <td>...</td>\n",
       "      <td>...</td>\n",
       "    </tr>\n",
       "    <tr>\n",
       "      <th>232202</th>\n",
       "      <td>https://purl.archive.org/purl/yelp/yelp_entiti...</td>\n",
       "      <td>Nb26badd4f40f4868b5107ed44dcbaf9e</td>\n",
       "      <td>https://purl.archive.org/purl/yelp/yelp_entiti...</td>\n",
       "      <td>2015-01-04 21:17:50</td>\n",
       "    </tr>\n",
       "    <tr>\n",
       "      <th>388461</th>\n",
       "      <td>https://purl.archive.org/purl/yelp/yelp_entiti...</td>\n",
       "      <td>N58d8689768c94072bd3661914be7f0de</td>\n",
       "      <td>https://purl.archive.org/purl/yelp/yelp_entiti...</td>\n",
       "      <td>2019-01-01 21:12:20</td>\n",
       "    </tr>\n",
       "    <tr>\n",
       "      <th>388470</th>\n",
       "      <td>https://purl.archive.org/purl/yelp/yelp_entiti...</td>\n",
       "      <td>Ncd0f0acda54f49bd84f249f882dbf25b</td>\n",
       "      <td>https://purl.archive.org/purl/yelp/yelp_entiti...</td>\n",
       "      <td>2019-01-01 22:24:37</td>\n",
       "    </tr>\n",
       "    <tr>\n",
       "      <th>242523</th>\n",
       "      <td>https://purl.archive.org/purl/yelp/yelp_entiti...</td>\n",
       "      <td>N5ead11e1907d4849877a0241069f4359</td>\n",
       "      <td>https://purl.archive.org/purl/yelp/yelp_entiti...</td>\n",
       "      <td>2015-03-28 23:37:12</td>\n",
       "    </tr>\n",
       "    <tr>\n",
       "      <th>254262</th>\n",
       "      <td>https://purl.archive.org/purl/yelp/yelp_entiti...</td>\n",
       "      <td>N0512977381594871aca634a564b94541</td>\n",
       "      <td>https://purl.archive.org/purl/yelp/yelp_entiti...</td>\n",
       "      <td>2015-06-28 21:49:39</td>\n",
       "    </tr>\n",
       "  </tbody>\n",
       "</table>\n",
       "<p>235012 rows × 4 columns</p>\n",
       "</div>"
      ],
      "text/plain": [
       "                                               user.value  \\\n",
       "23182   https://purl.archive.org/purl/yelp/yelp_entiti...   \n",
       "15305   https://purl.archive.org/purl/yelp/yelp_entiti...   \n",
       "15439   https://purl.archive.org/purl/yelp/yelp_entiti...   \n",
       "16816   https://purl.archive.org/purl/yelp/yelp_entiti...   \n",
       "16817   https://purl.archive.org/purl/yelp/yelp_entiti...   \n",
       "...                                                   ...   \n",
       "232202  https://purl.archive.org/purl/yelp/yelp_entiti...   \n",
       "388461  https://purl.archive.org/purl/yelp/yelp_entiti...   \n",
       "388470  https://purl.archive.org/purl/yelp/yelp_entiti...   \n",
       "242523  https://purl.archive.org/purl/yelp/yelp_entiti...   \n",
       "254262  https://purl.archive.org/purl/yelp/yelp_entiti...   \n",
       "\n",
       "                                tip.value  \\\n",
       "23182   N5d3087c739714f8b8c126113447e63bb   \n",
       "15305   Na67dba1a01e3497f9d0778211011aa63   \n",
       "15439   N6cc919545fac4ae8af37567e7a8c954e   \n",
       "16816   Nc0510e6ae68e4ac19c8c26e673a748c9   \n",
       "16817   N3e1a67290ab8441e888f3189493d1628   \n",
       "...                                   ...   \n",
       "232202  Nb26badd4f40f4868b5107ed44dcbaf9e   \n",
       "388461  N58d8689768c94072bd3661914be7f0de   \n",
       "388470  Ncd0f0acda54f49bd84f249f882dbf25b   \n",
       "242523  N5ead11e1907d4849877a0241069f4359   \n",
       "254262  N0512977381594871aca634a564b94541   \n",
       "\n",
       "                                           business.value     timestamp.value  \n",
       "23182   https://purl.archive.org/purl/yelp/yelp_entiti... 2011-04-04 23:23:35  \n",
       "15305   https://purl.archive.org/purl/yelp/yelp_entiti... 2011-01-13 23:06:48  \n",
       "15439   https://purl.archive.org/purl/yelp/yelp_entiti... 2011-01-15 13:21:43  \n",
       "16816   https://purl.archive.org/purl/yelp/yelp_entiti... 2011-01-30 22:57:50  \n",
       "16817   https://purl.archive.org/purl/yelp/yelp_entiti... 2011-01-30 23:00:05  \n",
       "...                                                   ...                 ...  \n",
       "232202  https://purl.archive.org/purl/yelp/yelp_entiti... 2015-01-04 21:17:50  \n",
       "388461  https://purl.archive.org/purl/yelp/yelp_entiti... 2019-01-01 21:12:20  \n",
       "388470  https://purl.archive.org/purl/yelp/yelp_entiti... 2019-01-01 22:24:37  \n",
       "242523  https://purl.archive.org/purl/yelp/yelp_entiti... 2015-03-28 23:37:12  \n",
       "254262  https://purl.archive.org/purl/yelp/yelp_entiti... 2015-06-28 21:49:39  \n",
       "\n",
       "[235012 rows x 4 columns]"
      ]
     },
     "execution_count": 30,
     "metadata": {},
     "output_type": "execute_result"
    }
   ],
   "source": [
    "tip_train"
   ]
  },
  {
   "cell_type": "code",
   "execution_count": 71,
   "metadata": {},
   "outputs": [],
   "source": [
    "def create_tip_split_files(df, stage):\n",
    "\n",
    "    input_path = \"/home/ubuntu/vol1/OneDrive/DVML-P7/Data/KG-triple-files/yelp_tip.nt.gz\"\n",
    "    output_path = f\"/home/ubuntu/vol1/OneDrive/DVML-P7/Data/KG-triple-files/yelp_tip_{stage}.nt.gz\"\n",
    "    maxiter = 0\n",
    "\n",
    "    with gzip.open(input_path, 'rb') as input_file, gzip.open(output_path, 'wb') as output_file:\n",
    "        for line in input_file:\n",
    "            tip = line.decode('utf-8').split(' ')[0][1:-1]\n",
    "            maxiter += 1\n",
    "            if maxiter >= 940000:\n",
    "                break\n",
    "            if tip not in df['tip.value'].unique():\n",
    "                continue\n",
    "            else:\n",
    "                output_file.write(line)"
   ]
  },
  {
   "cell_type": "code",
   "execution_count": 72,
   "metadata": {},
   "outputs": [
    {
     "ename": "KeyboardInterrupt",
     "evalue": "",
     "output_type": "error",
     "traceback": [
      "\u001b[0;31m---------------------------------------------------------------------------\u001b[0m",
      "\u001b[0;31mKeyboardInterrupt\u001b[0m                         Traceback (most recent call last)",
      "\u001b[1;32m/home/ubuntu/DVML-P7/RecommendationSplits/create_splits.ipynb Cell 26\u001b[0m in \u001b[0;36m1\n\u001b[0;32m----> <a href='vscode-notebook-cell://ssh-remote%2B10.92.0.48/home/ubuntu/DVML-P7/RecommendationSplits/create_splits.ipynb#X41sdnNjb2RlLXJlbW90ZQ%3D%3D?line=0'>1</a>\u001b[0m create_tip_split_files(df\u001b[39m=\u001b[39;49mtip_train, stage\u001b[39m=\u001b[39;49m\u001b[39m'\u001b[39;49m\u001b[39mtrain\u001b[39;49m\u001b[39m'\u001b[39;49m)\n",
      "\u001b[1;32m/home/ubuntu/DVML-P7/RecommendationSplits/create_splits.ipynb Cell 26\u001b[0m in \u001b[0;36m1\n\u001b[1;32m     <a href='vscode-notebook-cell://ssh-remote%2B10.92.0.48/home/ubuntu/DVML-P7/RecommendationSplits/create_splits.ipynb#X41sdnNjb2RlLXJlbW90ZQ%3D%3D?line=10'>11</a>\u001b[0m \u001b[39mif\u001b[39;00m maxiter \u001b[39m>\u001b[39m\u001b[39m=\u001b[39m \u001b[39m940000\u001b[39m:\n\u001b[1;32m     <a href='vscode-notebook-cell://ssh-remote%2B10.92.0.48/home/ubuntu/DVML-P7/RecommendationSplits/create_splits.ipynb#X41sdnNjb2RlLXJlbW90ZQ%3D%3D?line=11'>12</a>\u001b[0m     \u001b[39mbreak\u001b[39;00m\n\u001b[0;32m---> <a href='vscode-notebook-cell://ssh-remote%2B10.92.0.48/home/ubuntu/DVML-P7/RecommendationSplits/create_splits.ipynb#X41sdnNjb2RlLXJlbW90ZQ%3D%3D?line=12'>13</a>\u001b[0m \u001b[39mif\u001b[39;00m tip \u001b[39mnot\u001b[39;00m \u001b[39min\u001b[39;00m df[\u001b[39m'\u001b[39;49m\u001b[39mtip.value\u001b[39;49m\u001b[39m'\u001b[39;49m]\u001b[39m.\u001b[39;49munique():\n\u001b[1;32m     <a href='vscode-notebook-cell://ssh-remote%2B10.92.0.48/home/ubuntu/DVML-P7/RecommendationSplits/create_splits.ipynb#X41sdnNjb2RlLXJlbW90ZQ%3D%3D?line=13'>14</a>\u001b[0m     \u001b[39mcontinue\u001b[39;00m\n\u001b[1;32m     <a href='vscode-notebook-cell://ssh-remote%2B10.92.0.48/home/ubuntu/DVML-P7/RecommendationSplits/create_splits.ipynb#X41sdnNjb2RlLXJlbW90ZQ%3D%3D?line=14'>15</a>\u001b[0m \u001b[39melse\u001b[39;00m:\n",
      "File \u001b[0;32m~/.local/lib/python3.10/site-packages/pandas/core/series.py:2245\u001b[0m, in \u001b[0;36mSeries.unique\u001b[0;34m(self)\u001b[0m\n\u001b[1;32m   2186\u001b[0m \u001b[39mdef\u001b[39;00m \u001b[39munique\u001b[39m(\u001b[39mself\u001b[39m) \u001b[39m-\u001b[39m\u001b[39m>\u001b[39m ArrayLike:\n\u001b[1;32m   2187\u001b[0m     \u001b[39m\"\"\"\u001b[39;00m\n\u001b[1;32m   2188\u001b[0m \u001b[39m    Return unique values of Series object.\u001b[39;00m\n\u001b[1;32m   2189\u001b[0m \n\u001b[0;32m   (...)\u001b[0m\n\u001b[1;32m   2243\u001b[0m \u001b[39m    Categories (3, object): ['a' < 'b' < 'c']\u001b[39;00m\n\u001b[1;32m   2244\u001b[0m \u001b[39m    \"\"\"\u001b[39;00m\n\u001b[0;32m-> 2245\u001b[0m     \u001b[39mreturn\u001b[39;00m \u001b[39msuper\u001b[39;49m()\u001b[39m.\u001b[39;49munique()\n",
      "File \u001b[0;32m~/.local/lib/python3.10/site-packages/pandas/core/base.py:1001\u001b[0m, in \u001b[0;36mIndexOpsMixin.unique\u001b[0;34m(self)\u001b[0m\n\u001b[1;32m    999\u001b[0m         result \u001b[39m=\u001b[39m np\u001b[39m.\u001b[39masarray(result)\n\u001b[1;32m   1000\u001b[0m \u001b[39melse\u001b[39;00m:\n\u001b[0;32m-> 1001\u001b[0m     result \u001b[39m=\u001b[39m unique1d(values)\n\u001b[1;32m   1003\u001b[0m \u001b[39mreturn\u001b[39;00m result\n",
      "File \u001b[0;32m~/.local/lib/python3.10/site-packages/pandas/core/algorithms.py:407\u001b[0m, in \u001b[0;36munique\u001b[0;34m(values)\u001b[0m\n\u001b[1;32m    313\u001b[0m \u001b[39mdef\u001b[39;00m \u001b[39munique\u001b[39m(values):\n\u001b[1;32m    314\u001b[0m     \u001b[39m\"\"\"\u001b[39;00m\n\u001b[1;32m    315\u001b[0m \u001b[39m    Return unique values based on a hash table.\u001b[39;00m\n\u001b[1;32m    316\u001b[0m \n\u001b[0;32m   (...)\u001b[0m\n\u001b[1;32m    405\u001b[0m \u001b[39m    array([('a', 'b'), ('b', 'a'), ('a', 'c')], dtype=object)\u001b[39;00m\n\u001b[1;32m    406\u001b[0m \u001b[39m    \"\"\"\u001b[39;00m\n\u001b[0;32m--> 407\u001b[0m     \u001b[39mreturn\u001b[39;00m unique_with_mask(values)\n",
      "File \u001b[0;32m~/.local/lib/python3.10/site-packages/pandas/core/algorithms.py:423\u001b[0m, in \u001b[0;36munique_with_mask\u001b[0;34m(values, mask)\u001b[0m\n\u001b[1;32m    421\u001b[0m table \u001b[39m=\u001b[39m htable(\u001b[39mlen\u001b[39m(values))\n\u001b[1;32m    422\u001b[0m \u001b[39mif\u001b[39;00m mask \u001b[39mis\u001b[39;00m \u001b[39mNone\u001b[39;00m:\n\u001b[0;32m--> 423\u001b[0m     uniques \u001b[39m=\u001b[39m table\u001b[39m.\u001b[39;49munique(values)\n\u001b[1;32m    424\u001b[0m     uniques \u001b[39m=\u001b[39m _reconstruct_data(uniques, original\u001b[39m.\u001b[39mdtype, original)\n\u001b[1;32m    425\u001b[0m     \u001b[39mreturn\u001b[39;00m uniques\n",
      "\u001b[0;31mKeyboardInterrupt\u001b[0m: "
     ]
    }
   ],
   "source": [
    "create_tip_split_files(df=tip_train, stage='train')"
   ]
  },
  {
   "cell_type": "code",
   "execution_count": 56,
   "metadata": {},
   "outputs": [],
   "source": [
    "with gzip.open(\"/home/ubuntu/vol1/OneDrive/DVML-P7/Data/KG-triple-files/yelp_tip_train.nt.gz\", 'rb') as f:\n",
    "    for line in f:\n",
    "        print(line)\n",
    "        "
   ]
  }
 ],
 "metadata": {
  "kernelspec": {
   "display_name": "Python 3",
   "language": "python",
   "name": "python3"
  },
  "language_info": {
   "codemirror_mode": {
    "name": "ipython",
    "version": 3
   },
   "file_extension": ".py",
   "mimetype": "text/x-python",
   "name": "python",
   "nbconvert_exporter": "python",
   "pygments_lexer": "ipython3",
   "version": "3.10.6"
  },
  "orig_nbformat": 4
 },
 "nbformat": 4,
 "nbformat_minor": 2
}
